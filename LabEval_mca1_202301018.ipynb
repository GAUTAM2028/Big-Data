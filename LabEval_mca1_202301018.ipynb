{
  "nbformat": 4,
  "nbformat_minor": 0,
  "metadata": {
    "colab": {
      "provenance": [],
      "authorship_tag": "ABX9TyOMlUPW7XnbhG44C6pg8cUX",
      "include_colab_link": true
    },
    "kernelspec": {
      "name": "python3",
      "display_name": "Python 3"
    },
    "language_info": {
      "name": "python"
    }
  },
  "cells": [
    {
      "cell_type": "markdown",
      "metadata": {
        "id": "view-in-github",
        "colab_type": "text"
      },
      "source": [
        "<a href=\"https://colab.research.google.com/github/GAUTAM2028/Big-Data/blob/main/LabEval_mca1_202301018.ipynb\" target=\"_parent\"><img src=\"https://colab.research.google.com/assets/colab-badge.svg\" alt=\"Open In Colab\"/></a>"
      ]
    },
    {
      "cell_type": "code",
      "source": [
        "import numpy as np\n",
        "\n",
        "p = np.array([[1, 2],\n",
        "              [2, 3]])\n",
        "\n",
        "q = np.array([[4, 5],\n",
        "              [6, 7]])\n",
        "\n",
        "\n",
        "multiply = np.dot(p,q)\n",
        "print(\"Matrix multiplication :\")\n",
        "print(result)\n",
        "\n",
        "\n",
        "covariance = np.cov(p.flatten(), q.flatten())\n",
        "print(\"\\nCovariance b/w matrices:\")\n",
        "print(covariance)"
      ],
      "metadata": {
        "colab": {
          "base_uri": "https://localhost:8080/"
        },
        "id": "zljMdke7zJX6",
        "outputId": "6a7da225-2931-48d5-8b3e-3b0fa230e9a1"
      },
      "execution_count": 4,
      "outputs": [
        {
          "output_type": "stream",
          "name": "stdout",
          "text": [
            "Matrix multiplication :\n",
            "[[16 19]\n",
            " [26 31]]\n",
            "\n",
            "Covariance b/w matrices:\n",
            "[[0.66666667 1.        ]\n",
            " [1.         1.66666667]]\n"
          ]
        }
      ]
    }
  ]
}